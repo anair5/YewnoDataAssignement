{
 "cells": [
  {
   "cell_type": "markdown",
   "metadata": {},
   "source": [
    "# Yewno: Data Science Assignment\n",
    "### Abhijit Nair | anair5@uncc.edu | December 14th"
   ]
  },
  {
   "cell_type": "markdown",
   "metadata": {},
   "source": [
    "## Problem Statement\n",
    "Develop a system for plagiarism detection: you are given a set of textual documents and you are asked to detect which documents contain significant overlapping in content. It is up to you to define what \"significant\" and \"overlapping\" mean. You can also use examples of plagiarized portions of documents.\n"
   ]
  },
  {
   "cell_type": "markdown",
   "metadata": {},
   "source": [
    "## Approach\n",
    "\n",
    "In this assignment I have used Fingerprinting Technique - which involves creating a set of fingerprints for each Document and checking for overlaps in this fingerprint.\n",
    "This approach will detect any copied sentence, minimum length of the sentence is set by the user.\n",
    "I have set significance as 12 words, i.e. if some one copies a sentence, if the sentence length is below 12, there is a chance that the algorithm will catch it, depending on the size of the k-gram, and if the sentence length is above 12, this algorithm will detect it with 100% accuracy.\n",
    "\n",
    "Test cases are created to prove this, and also to show how fingerprinting is better than cosine similarity when it comes to plagiarism detection.\n"
   ]
  },
  {
   "cell_type": "markdown",
   "metadata": {},
   "source": [
    "## Why Fingerprinting \n",
    "\n",
    "Fingerprinting is a highly scalable technique - and is excellent for checking partial copies. Other bag of word approaches, and/or similarity metrics like cosine similarity are good at finding similar topics but are less reliable when it comes to plagiarism detection. "
   ]
  },
  {
   "cell_type": "markdown",
   "metadata": {},
   "source": [
    "## Implementation\n",
    "I used the winnowing algorithm to select the fingerprints for my documents.<br> \n",
    "The original paper can be found in this link: http://www.cs.princeton.edu/courses/archive/spr05/cos598E/bib/p76-schleimer.pdf\n",
    "One Fingerprint is a k-gram, k chosen by the user.<br>\n",
    "\n",
    "Formula   $t=w+k-1$ <br>\n",
    "Here $t$ is the guarantee threshold, what this means is that if a line which has $t$ number of words is copied, then the match is detected for sure.<br>\n",
    "$k$ is the noise threshold, any number of words less than $k$ if copied, will not be detected by our system.<br>\n",
    "Once these two parameters are set we can calculate the window size $w$, what this means is that, we select at least one k-gram from each window, thus ensuring the guarantee threshold. The k-grams are hashed using python's hash( ) function and this set of selected hashes stored as the fingerprint for the document.\n",
    "\n",
    "### Data-Preprocessing \n",
    "\n",
    "#### Acquiring the Data \n",
    "- I used arxiv's api to get a list of papers from a topic and then randomly sampled 90 papers from this. Then I used the pdfx package to extract the text. all images were discarded. \n",
    "- Issue Encountered: \n",
    "     - Some of the pdfs could not be converted and were discarded\n",
    "\n",
    "#### Data Cleaning\n",
    "- Converted all characters to lower case.\n",
    "- Removed all the new-line and line break characters. \n",
    "- Removed the Reference section from 90% of the papers, i.e. papers which had Reference as a heading. This was done because many papers might use the same reference, but this is not a sign of plagiarism. \n",
    "- All numbers and equations were removed because papers can have similar equations and numbers.\n",
    "- All texts in quotes was removed.\n",
    "- The words were stemmed \n",
    "- Words of length below 2 were discarded.\n",
    "- Period was used to split lines into sentences\n",
    "- Issues Encountered:\n",
    "    - Pulling out reference not possible with regex, so first converted all '\\n' to # and then matched all characters that come after 'Reference#'\n",
    "\n",
    "### Determining the parameters\n",
    "\n",
    "I chose my $k$, noise threshold as 5, any sequence of words less than 5 was not worth investigation.\n",
    "I dropped all sentences which had less than 5 words.\n",
    "\n",
    "To determine the parameters $t$ and $w$,\n",
    "\n",
    "I plotted the average number of words per sentence in all documents. The average number was around 24. I chose half of that as my guarantee threshold. The corresponding windows size was 8.\n",
    "\n",
    "### K-Gram Index\n",
    "\n",
    "Each sentence is converted to k-grams. if there are $n$ number of words in a sentence then it will have $n-k+1$ number of k-grams. <br>\n",
    "Once the k-grams are created, each K-gram is hashed and the k-gram alone with the document number and the sentence number is pickled. This step is time consuming, but once it is pickled, we don't have to recompute it.\n",
    "\n",
    "### Winnowing\n",
    "\n",
    "For each sentence, the k-grams are taken and depending on the window size, one hash is taken from each window.<br>\n",
    "If the window size is smaller than the number of k-grams in a sentence, then we choose one k-gram from the sentence. The smallest hash value is always chosen from a window as this value has a high probability of being the smallest in the consecutive window. \n",
    "I chose minimum hash from all windows, and if consecutive hash are same, then ignored those hash.\n",
    "<br>\n",
    "<br>\n",
    "<br>\n",
    "<br>\n",
    "\n",
    "\n",
    "\n",
    "![Screenhot](./Capture.PNG)\n",
    "\n",
    "<br>\n",
    "<br>\n",
    "<br>\n",
    "<br>\n",
    "\n",
    "This image is taken from the winnowing paper, the same algorithm is applied here, the only difference is that we have done it at a word level and not at character level.\n",
    "This technique ensures that we have the smallest number of fingerprints while maintaining the guaranteed threshold.\n",
    "\n",
    "### Test Cases\n",
    "I created some test scenarios to show how the algorithm works. The test files are numbered test1 (id:100), test2 (id:101),test3 (id:102) and test4 (id:103).<br>\n",
    "- test1 (id:100): Extract from wikipedia about a random topic, I also added just one sentence of length greater than 12. This will show how the algorithm works, even if it is just a sentence.\n",
    "- test2 (id:101): Extract from a random wiki article, but I added sequence of words, less than our noise level. This should not be detected as plagiarism by out system.\n",
    "- test3 (id:102): More than 50% plagiarised.\n",
    "- test4 (id:103): Not plagiarised, but similar topic as test1 - to show how fingerprinting is a better approach than cosine.\n",
    "\n",
    "## Results\n",
    "\n",
    "- Test1 was a success - the copied line was caught by the system\n",
    "- Test 2 was a success - There was no match, it was not detected by the system.\n",
    "- Test 3 was captured by the system.\n",
    "- Test 4 as a success\n",
    "Documents 76 and 77 was flagged as plagiarised, but upon manual inspection, these were papers in a similar topic, written by same authors. This was a False positive.\n",
    "\n",
    "#### Comparison with cosine similarity.\n",
    "Document 101 and Document 103 had a high cosine similarity, but were not plagiarised. Document 100 and Document 0 had a smaller cosine similarity, but this had plagiarism. It is hard to determine what the cut off for cosine similarity should be and to find out where exactly it was plagiarised from. Fingerprinting will give us the exact sentence.\n",
    "Calculating k-gram cosine similarity for large number of documents is competitively expensive, fingerprinting is highly scalable.\n",
    "\n",
    "\n"
   ]
  },
  {
   "cell_type": "markdown",
   "metadata": {},
   "source": [
    "## Assessing the Performance\n",
    "- Using the above test cases we can see that we have one false positive. The test cases provided by me were successfully captured by the system, as long as there was no plagiarism in the initial 90 docs, we can say that there are no false negatives. "
   ]
  },
  {
   "cell_type": "markdown",
   "metadata": {},
   "source": [
    "## Potential pitfalls\n",
    "- The approach here works for copy paste plagiarism, changing the word, i.e. idea plagiarism is not captured.\n",
    "- Same Author can write similar papers and this will be flagged as plagiarism. (false Positive)\n",
    "- Same can be said about multiple authors.\n",
    "- Images and equations are excluded.\n",
    "- If the plagiarised sentences are enclosed in quotes, the algorithm won't capture this."
   ]
  },
  {
   "cell_type": "markdown",
   "metadata": {},
   "source": [
    "## How could malicious authors potentially fool your system?\n",
    "- Synonyms for copied sentence\n",
    "- Changing the sentence structure completely\n",
    "- Copying the paper the a different language\n",
    "- Enclosing the plagiarised part in quotes\n",
    "- Plagiarising Images - adding screenshots of a different paper."
   ]
  },
  {
   "cell_type": "markdown",
   "metadata": {},
   "source": [
    "## Scalability\n",
    "- This system is scalable, the bottle necks would be creating the k-gram index, using a hash that is large enough to avoid false positives. The same algorithm can be implemented on spark, with the papers stored in HDFS and k-gram index stored in memory"
   ]
  },
  {
   "cell_type": "markdown",
   "metadata": {},
   "source": [
    "## Future Work\n",
    "- Use a set of commonly used synonyms as a list to check against for authors who change words.\n",
    "- take the author and co-author informations to avoid false positives.\n",
    "- Run different combinations of $t$, $k$ and $w$ to find the optimal values, this would be the ones that minimize False Negatives.\n",
    "- Add more test cases and check the limitations of the system\n",
    "- Implementation of the winnowing algorithm on distributed systems. (PySpark)"
   ]
  },
  {
   "cell_type": "markdown",
   "metadata": {},
   "source": [
    "# Code"
   ]
  },
  {
   "cell_type": "code",
   "execution_count": 4,
   "metadata": {
    "collapsed": true
   },
   "outputs": [],
   "source": [
    "import pandas as pd\n",
    "import numpy as np\n",
    "from matplotlib import pyplot as plt\n",
    "import matplotlib\n",
    "import seaborn as sns\n",
    "%matplotlib inline\n",
    "plt.style.use('ggplot')\n",
    "pd.set_option('display.max_colwidth', -1)\n",
    "matplotlib.rcParams['figure.figsize'] = (20.0, 10.0)\n",
    "import random\n",
    "import os\n",
    "import pdfx\n",
    "import re\n",
    "from nltk.corpus import stopwords\n",
    "from nltk.stem.snowball import SnowballStemmer\n",
    "from nltk.stem import WordNetLemmatizer\n",
    "from nltk.tokenize import RegexpTokenizer\n",
    "import arxiv\n",
    "from sklearn.feature_extraction.text import TfidfVectorizer\n",
    "from sklearn.metrics.pairwise import cosine_similarity"
   ]
  },
  {
   "cell_type": "code",
   "execution_count": 12,
   "metadata": {
    "collapsed": true
   },
   "outputs": [],
   "source": [
    "def download_pdf(term, k):\n",
    "    \"\"\"\n",
    "    This function uses the arxiv package and the axriv api to query a search term \"term\" and\n",
    "    randomly sample k terms and download the pdf.\n",
    "    \"\"\"\n",
    "    search_query = arxiv.query(search_query=\"earth\", max_results=10000)\n",
    "    rand_items = random.sample(search_query, k)\n",
    "    for i in range(0, k):\n",
    "        arxiv.download(obj=rand_items[i], dirname='./pdf/', slugify=True)\n",
    "\n",
    "\n",
    "def pdf_path():\n",
    "    \"\"\"\n",
    "    Returns the names of the downloaded pdf files\n",
    "    \"\"\"\n",
    "    pdfFiles = []\n",
    "    for filename in os.listdir('./pdf/'):\n",
    "        if filename.endswith('.pdf'):\n",
    "            pdfFiles.append(filename)\n",
    "    return pdfFiles\n",
    "\n",
    "\n",
    "def read_data(pdfFiles):\n",
    "    \"\"\"\n",
    "    This function extracts text from pdf and stores in a dataframe along with filename. \n",
    "    Returns the dataframe\n",
    "    \"\"\"\n",
    "    df = pd.DataFrame([])\n",
    "    invalid_pdf = []\n",
    "    i = 0\n",
    "    for filename in pdfFiles:\n",
    "        try:\n",
    "            pdf = pdfx.PDFx((os.path.join('./pdf/', filename)))\n",
    "            df = df.append(\n",
    "                pd.DataFrame(\n",
    "                    {\n",
    "                        'papername': filename,\n",
    "                        'text': pdf.get_text()\n",
    "                    }, index=[i]))\n",
    "            i = i + 1\n",
    "        except:\n",
    "            invalid_pdf.append(filename)\n",
    "            continue\n",
    "    return df\n",
    "\n",
    "\n",
    "def clean(df):\n",
    "    \"\"\"\n",
    "    This function cleans the text extracted from the pdf and returns it.\n",
    "    \"\"\"\n",
    "    #make all the text to lower case\n",
    "    df.text = df.text.str.lower()\n",
    "    #replace new-line with # for easier cleaning\n",
    "    df['cleaned'] = df.text.apply(lambda x: re.sub(r\"\\n\", \"#\", x))\n",
    "    #Remove references from the text\n",
    "    df['cleaned'] = df.cleaned.apply(lambda x: re.sub(r'references#.*', \"\", x))\n",
    "    #Remove Bibliography from the text\n",
    "    df['cleaned'] = df.cleaned.apply(\n",
    "        lambda x: re.sub(r'bibliography#.*', \"\", x))\n",
    "    #Replace pound unwanted charecters with space\n",
    "    df['cleaned'] = df.cleaned.apply(lambda x: re.sub(r\"#\", \" \", x))\n",
    "    df['cleaned'] = df.cleaned.apply(lambda x: re.sub(r\"\\t\", \" \", x))\n",
    "    df['cleaned'] = df.cleaned.apply(lambda x: re.sub(r\"\\r\", \" \", x))\n",
    "    #Keep only alphabets, fullstops and white spaces\n",
    "    df['cleaned'] = df.cleaned.apply(\n",
    "        lambda x: re.sub(r'([^a-zA-Z.\"\\s]+)', \" \", x))\n",
    "    #Remove all text inside quotes\n",
    "    df['cleaned'] = df.cleaned.apply(lambda x: re.sub(r'\\\"(.+?)\\\"', \" \", x))\n",
    "    #Strip all extra white spaces\n",
    "    df['cleaned'] = df.cleaned.apply(lambda x: re.sub(r\"([\\s]{2,})\", \" \", x))\n",
    "    return df\n",
    "\n",
    "\n",
    "def clean_step2(df):\n",
    "    \"\"\"\n",
    "    This function performs, stemming and removes all words with length less than 2\n",
    "    and splits the text into sentences\n",
    "    \"\"\"\n",
    "    stemmer = SnowballStemmer(\"english\")\n",
    "    df.cleaned = df['cleaned'].apply(\n",
    "        lambda x: ' '.join([word for word in x.split() if len(word) > 2]))\n",
    "    df.cleaned = df['cleaned'].apply(\n",
    "        lambda x: ' '.join([stemmer.stem(word) for word in x.split()]))\n",
    "    df['cleaned'] = df.cleaned.apply(lambda x: re.sub(r\"([\\s]{2,})\", \" \", x))\n",
    "    df['cleaned_split'] = df.cleaned.apply(lambda x: x.split('. '))\n",
    "    return df\n",
    "\n",
    "\n",
    "def avg_wordpl(doc):\n",
    "    \"\"\"\n",
    "    Function calculates and returns average number of words per sentence.\n",
    "    \"\"\"\n",
    "    wrd = 0\n",
    "    ln = 0\n",
    "    for line in doc:\n",
    "        wrd += len(line.split())\n",
    "        ln += 1\n",
    "    return (round(wrd / ln))\n",
    "\n",
    "\n",
    "def drop_sen(doc, k):\n",
    "    \"\"\"\n",
    "    Function to drop all sentences that have words less than k-grams\n",
    "    \"\"\"\n",
    "    sentence = [line for line in doc if len(line.split()) > 5]\n",
    "    return sentence\n",
    "\n",
    "\n",
    "def apply_kgram(doc, k):\n",
    "    \"\"\"\n",
    "    Takes a document and the number of grams as input and returns the kgram list as output\n",
    "    \"\"\"\n",
    "    doc_kgram = []\n",
    "    for line in doc:\n",
    "        doc_kgram.append(make_kgrams(line, k))\n",
    "    return doc_kgram\n",
    "\n",
    "\n",
    "def make_kgrams(sentence, k):\n",
    "    \"\"\"\n",
    "    Takes a sentence and number of grams as input and returns the k-gram for that sentence as output\n",
    "    \"\"\"\n",
    "    words = sentence.split()\n",
    "    zip_list = zip(*[words[i:] for i in range(k)])\n",
    "    list_z = [list(a) for a in zip_list]\n",
    "    return [' '.join(list(i)) for i in list_z]\n",
    "\n",
    "\n",
    "def kgram_indexer(df):\n",
    "    \"\"\"\n",
    "    Creates a dataframe of K_grams and corresponding document number and sentence number\n",
    "    \"\"\"\n",
    "    kgram_index = pd.DataFrame([])\n",
    "    d = 1\n",
    "    for doc in df.kgrams:\n",
    "        s = 1\n",
    "        for sen in doc:\n",
    "            for kgram in sen:\n",
    "                kgram_index = kgram_index.append(\n",
    "                    pd.DataFrame(\n",
    "                        {\n",
    "                            'kgram': kgram,\n",
    "                            'sentence': s,\n",
    "                            'doc': d\n",
    "                        }, index=[0]),\n",
    "                    ignore_index=True)\n",
    "            s += 1\n",
    "        d += 1\n",
    "    return kgram_index\n",
    "\n",
    "\n",
    "def fingerprinting(df, w):\n",
    "    \"\"\"\n",
    "    This Function takes the windows size and performs the winnowing algorithm. Returns the fingerprint.\n",
    "    \"\"\"\n",
    "    kg = []\n",
    "    fingerprint = pd.DataFrame([])\n",
    "    for d in range(max(df.doc) + 1):\n",
    "        doc = df[df.doc == d]\n",
    "        for i in range(max(doc.sentence) + 1):\n",
    "            kg = list(doc[doc.sentence == i].hash)\n",
    "            if (len(kg) < w):\n",
    "                fingerprint = fingerprint.append(\n",
    "                    pd.DataFrame(\n",
    "                        {\n",
    "                            'fingerprint': min(kg),\n",
    "                            'doc_num': d,\n",
    "                            'sentence_no': i\n",
    "                        },\n",
    "                        index=[0]),\n",
    "                    ignore_index=True)\n",
    "            else:\n",
    "                for j in range((len(kg) - w + 1)):\n",
    "                    fingerprint = fingerprint.append(\n",
    "                        pd.DataFrame(\n",
    "                            {\n",
    "                                'fingerprint': min(kg[j:j + w]),\n",
    "                                'doc_num': d,\n",
    "                                'sentence_no': i\n",
    "                            },\n",
    "                            index=[0]),\n",
    "                        ignore_index=True)\n",
    "    return fingerprint\n",
    "\n",
    "\n",
    "def shifting(df):\n",
    "    \"\"\"\n",
    "    Function removes similar consecutive hashes and outputs the final fingerprint dataframe \n",
    "    \"\"\"\n",
    "    shifted = df.fingerprint.loc[df.fingerprint.shift(-1) != df.fingerprint]\n",
    "    df_final = pd.DataFrame([])\n",
    "    for i in shifted.index:\n",
    "        df_final = df_final.append(\n",
    "            pd.DataFrame(\n",
    "                {\n",
    "                    'fingerprint': df_fingerprint.iloc[i].fingerprint,\n",
    "                    'doc_num': df_fingerprint.iloc[i].doc_num,\n",
    "                    'sentence_no': df_fingerprint.iloc[i].sentence_no\n",
    "                },\n",
    "                index=[0]),\n",
    "            ignore_index=True)\n",
    "    return df_final\n",
    "\n",
    "\n",
    "def test_path():\n",
    "    \"\"\"\n",
    "    Returns the names of the test files\n",
    "    \"\"\"\n",
    "    testFiles = []\n",
    "    for filename in os.listdir('./Test//'):\n",
    "        if filename.endswith('.txt'):\n",
    "            testFiles.append(filename)\n",
    "    return testFiles\n",
    "\n",
    "\n",
    "def read_testdata(testFiles):\n",
    "    \"\"\"\n",
    "    This function extracts text from pdf and stores in a dataframe along with filename. \n",
    "    Returns the dataframe\n",
    "    \"\"\"\n",
    "    df = pd.DataFrame([])\n",
    "    i = 0\n",
    "    for filename in testFiles:\n",
    "        try:\n",
    "            file = open((os.path.join('./Test/', filename)), \"r\")\n",
    "            df = df.append(\n",
    "                pd.DataFrame(\n",
    "                    {\n",
    "                        'papername': filename,\n",
    "                        'text': file.read()\n",
    "                    }, index=[i]))\n",
    "            i = i + 1\n",
    "        except:\n",
    "            invalid_pdf.append(filename)\n",
    "            continue\n",
    "    return df\n",
    "\n",
    "\n",
    "def comparison(result):\n",
    "    \"\"\"\n",
    "    Checks for overlaps in fingerprints\n",
    "    \"\"\"\n",
    "    dk = []\n",
    "    for i in range(max(result.doc_num) + 1):\n",
    "        dk.append(\n",
    "            result[result.doc_num == i].fingerprint.values.flatten().tolist())\n",
    "\n",
    "    setdk = []\n",
    "    for i in dk:\n",
    "        setdk.append(set(i))\n",
    "\n",
    "    dic = {}\n",
    "    for i in range(0, len(setdk)):\n",
    "        list_of_matches = []\n",
    "        for j in range(i + 1, len(setdk)):\n",
    "            fir = setdk[i].intersection(setdk[j])\n",
    "            if fir:\n",
    "                list_of_matches.append((j, fir))\n",
    "        dic[i] = list_of_matches\n",
    "        plag = pd.DataFrame([])\n",
    "    for doc, match in dic.items():\n",
    "        for l in match:\n",
    "            if len(l[1]) > 2:\n",
    "                plag = plag.append(\n",
    "                    pd.DataFrame(\n",
    "                        {\n",
    "                            'doc_num': doc,\n",
    "                            'match_doc': l[0],\n",
    "                            'match_print': l[1]\n",
    "                        },\n",
    "                        index=[0]),\n",
    "                    ignore_index=True)\n",
    "    for i, row in plag.iterrows():\n",
    "        plag.match_print[i] = list(plag.match_print[i])\n",
    "    return plag\n",
    "\n",
    "\n",
    "def getcommonsentence(plag):\n",
    "    \"\"\"\n",
    "    Gets the sentence which was plagiarised, depending on the fingerprint\n",
    "    \"\"\"\n",
    "    plag['CopiedSentence'] = \"\"\n",
    "    for i, row in plag.iterrows():\n",
    "        sen = []\n",
    "        for fprint in row.match_print:\n",
    "            z = row.doc_num\n",
    "            x = min(kgram_index[kgram_index.hash == fprint].sentence)\n",
    "            sen.append(df.dropped[z][x])\n",
    "        plag['CopiedSentence'][i] = sen\n",
    "    plag.CopiedSentence = plag.CopiedSentence.apply(lambda x: list(set(x)))\n",
    "    plag['NumberOfCopied'] = plag.CopiedSentence.apply(lambda x: len(x))\n",
    "    return plag"
   ]
  },
  {
   "cell_type": "code",
   "execution_count": 6,
   "metadata": {
    "collapsed": true
   },
   "outputs": [],
   "source": [
    "#pd.to_pickle(df,\"text.pkl\")\n",
    "df = pd.read_pickle('text.pkl')\n",
    "df = clean(df)\n",
    "df = clean_step2(df)\n",
    "#Dropping documents with parse issues\n",
    "df.drop([75, 85, 87], inplace=True)\n",
    "df.reset_index(inplace=True)"
   ]
  },
  {
   "cell_type": "markdown",
   "metadata": {},
   "source": [
    "### Plot - Average number of words per sentence - before dropping sentences below k"
   ]
  },
  {
   "cell_type": "code",
   "execution_count": 6,
   "metadata": {
    "scrolled": false
   },
   "outputs": [
    {
     "data": {
      "text/plain": [
       "<matplotlib.lines.Line2D at 0x7fc05b6c5be0>"
      ]
     },
     "execution_count": 6,
     "metadata": {},
     "output_type": "execute_result"
    },
    {
     "data": {
      "image/png": "[encoded data removed]",
      "text/plain": [
       "<matplotlib.figure.Figure at 0x7fc07389f198>"
      ]
     },
     "metadata": {},
     "output_type": "display_data"
    }
   ],
   "source": [
    "avg_len = df.cleaned_split.apply(avg_wordpl)\n",
    "p = avg_len.plot(kind='hist', bins=20)\n",
    "p.axvline(avg_len.mean(), color='blue', linewidth=2)"
   ]
  },
  {
   "cell_type": "code",
   "execution_count": 9,
   "metadata": {
    "collapsed": true
   },
   "outputs": [],
   "source": [
    "#Dropping sentences with words less than our noise threshold\n",
    "df['dropped'] = df.cleaned_split.apply(lambda x: drop_sen(x, 5))"
   ]
  },
  {
   "cell_type": "markdown",
   "metadata": {},
   "source": [
    "### Plot - Average number of words per sentence - after dropping sentences below k"
   ]
  },
  {
   "cell_type": "code",
   "execution_count": 10,
   "metadata": {},
   "outputs": [
    {
     "data": {
      "text/plain": [
       "<matplotlib.lines.Line2D at 0x7f32bf69c0f0>"
      ]
     },
     "execution_count": 10,
     "metadata": {},
     "output_type": "execute_result"
    },
    {
     "data": {
      "image/png": "[encoded data removed]",
      "text/plain": [
       "<matplotlib.figure.Figure at 0x7f32bf3b29b0>"
      ]
     },
     "metadata": {},
     "output_type": "display_data"
    }
   ],
   "source": [
    "avg_len = df.dropped.apply(avg_wordpl)\n",
    "p = avg_len.plot(kind='hist', bins=20)\n",
    "p.axvline(avg_len.mean(), color='blue', linewidth=2)"
   ]
  },
  {
   "cell_type": "markdown",
   "metadata": {},
   "source": [
    "## Creating the Fingerprints and pickling them"
   ]
  },
  {
   "cell_type": "code",
   "execution_count": 11,
   "metadata": {
    "collapsed": true
   },
   "outputs": [],
   "source": [
    "#make the k-grams for each sentence\n",
    "df['kgrams'] = df.dropped.apply(lambda x: apply_kgram(x, 5))\n",
    "\n",
    "#kgram_index = kgram_indexer(df)\n",
    "\n",
    "#pd.to_pickle(kgram_index,'kgram_index.pkl')\n",
    "kgram_index = pd.read_pickle('kgram_index2.pkl')\n",
    "kgram_index['hash'] = kgram_index.kgram.apply(hash)\n",
    "\n",
    "#performing the hashing and winnowing\n",
    "kgram_index['hash'] = kgram_index.kgram.apply(hash)\n",
    "\n",
    "%time df_fingerprint=fingerprinting(kgram_index,8)\n",
    "\n",
    "%time df_fingerprint=shifting(df_fingerprint)"
   ]
  },
  {
   "cell_type": "markdown",
   "metadata": {},
   "source": [
    "## Reading in the test cases and preprocessing them"
   ]
  },
  {
   "cell_type": "code",
   "execution_count": null,
   "metadata": {
    "collapsed": true
   },
   "outputs": [],
   "source": [
    "testFiles = test_path()\n",
    "df_test = read_testdata(testFiles)\n",
    "df_test = clean(df_test)\n",
    "df_test = clean_step2(df_test)\n",
    "#df_test.to_pickle('testcase.pkl')\n",
    "\n",
    "df_test = pd.read_pickle('testcase.pkl')\n",
    "df_test['dropped'] = df_test.cleaned_split.apply(lambda x: drop_sen(x, 5))\n",
    "df_test['kgrams'] = df_test.dropped.apply(lambda x: apply_kgram(x, 5))\n",
    "kgram_index_test = kgram_indexer(df_test)\n",
    "#pd.to_pickle(kgram_index_test,'kgram_index_test.pkl')"
   ]
  },
  {
   "cell_type": "code",
   "execution_count": 51,
   "metadata": {
    "collapsed": true
   },
   "outputs": [],
   "source": [
    "kgram_index_test = pd.read_pickle('kgram_index_test.pkl')\n",
    "kgram_index_test['hash'] = kgram_index_test.kgram.apply(hash)\n",
    "df_fingerprint_test = fingerprinting(kgram_index_test, 8)\n",
    "df_final_test = shifting(df_fingerprint)\n",
    "df_final_test.doc_num = df_final_test.doc_num + 100\n",
    "result = pd.concat([df_fingerprint, df_final_test])\n",
    "#result.to_pickle('testtrainfingerprint.pkl')"
   ]
  },
  {
   "cell_type": "code",
   "execution_count": 13,
   "metadata": {
    "collapsed": true
   },
   "outputs": [],
   "source": [
    "result = pd.read_pickle('testtrainfingerprint.pkl')"
   ]
  },
  {
   "cell_type": "code",
   "execution_count": 40,
   "metadata": {
    "collapsed": true
   },
   "outputs": [],
   "source": [
    "#output = comparison(result)\n",
    "#output=getcommonsentence(output)\n",
    "#output.to_pickle('FinalResult.pkl')\n",
    "output = pd.read_pickle('FinalResult.pkl')"
   ]
  },
  {
   "cell_type": "markdown",
   "metadata": {},
   "source": [
    "## The matched docs, along with the copied sentence and number of copied sentences"
   ]
  },
  {
   "cell_type": "code",
   "execution_count": 45,
   "metadata": {},
   "outputs": [
    {
     "data": {
      "text/html": [
       "<div>\n",
       "<style>\n",
       "    .dataframe thead tr:only-child th {\n",
       "        text-align: right;\n",
       "    }\n",
       "\n",
       "    .dataframe thead th {\n",
       "        text-align: left;\n",
       "    }\n",
       "\n",
       "    .dataframe tbody tr th {\n",
       "        vertical-align: top;\n",
       "    }\n",
       "</style>\n",
       "<table border=\"1\" class=\"dataframe\">\n",
       "  <thead>\n",
       "    <tr style=\"text-align: right;\">\n",
       "      <th></th>\n",
       "      <th>doc_num</th>\n",
       "      <th>match_doc</th>\n",
       "      <th>CopiedSentence</th>\n",
       "      <th>NumberOfCopied</th>\n",
       "    </tr>\n",
       "  </thead>\n",
       "  <tbody>\n",
       "    <tr>\n",
       "      <th>0</th>\n",
       "      <td>0</td>\n",
       "      <td>100</td>\n",
       "      <td>[cmb task forc hereaft cmbtf also most detector use the present generat instrument and project for the next one are the microk.sqrt sensit ref the other hand foreground emiss arguabl the last frontier cmb studi sinc the detail synchrotron free free and dust emiss well their spectral and spatial distribut are still poor understood]</td>\n",
       "      <td>1</td>\n",
       "    </tr>\n",
       "    <tr>\n",
       "      <th>1</th>\n",
       "      <td>3</td>\n",
       "      <td>36</td>\n",
       "      <td>[first simpler approxim was introduc for the distribut insol which was express term the angl between the earth axi rotat and perpendicular plane earth orbit cid cid cid cid sin cos cos cid quadrat approxim within error led and express for the form where cid cid was shown that this approxim allow for simpler method solv for equilibrium solut budyko mode for xed icelin without take larg toll accuracy, for now consid for simplic that the deviat toward the high and low temperatur rang have symmetr ect cid cid where and are sensit paramet which tune the width and steep the graph, formul the integro erenti equat assum earth annual averag surfac temperatur given latitud can repres function time and the sine the latitud sin where cid correspond author assist professor depart mathemat state univers new york new paltz new york usa phone email radulesa newpaltz.edu figur earth averag temperatur and carbon dioxid concentr annually]</td>\n",
       "      <td>3</td>\n",
       "    </tr>\n",
       "    <tr>\n",
       "      <th>2</th>\n",
       "      <td>12</td>\n",
       "      <td>58</td>\n",
       "      <td>[this regim absorpt energi per unit area result loss atmospher unit pressur given realist model the evolut the ray and output dwarf star riba al]</td>\n",
       "      <td>1</td>\n",
       "    </tr>\n",
       "    <tr>\n",
       "      <th>3</th>\n",
       "      <td>12</td>\n",
       "      <td>66</td>\n",
       "      <td>[break the curv mark transit between the regim where one instrument favor over the other, howev the sub earth realm remain larg unexplor around other star due the limit present detect methods, orbit period for sub earth orbit dwarf star pc, two case are consid venus like planet with albedo and cient heat redistribut black curv and mercuri like planet with albedo and heat redistribut grey curv for each case calcul tection threshold term the minimum angular radius the planet i.e]</td>\n",
       "      <td>4</td>\n",
       "    </tr>\n",
       "    <tr>\n",
       "      <th>4</th>\n",
       "      <td>13</td>\n",
       "      <td>102</td>\n",
       "      <td>[previous work this problem has sought identifi mechan such gravit reson between the newli form moon and the sun the remnant proto lunar disk that can excit the lunar inclin level consist with it current value]</td>\n",
       "      <td>1</td>\n",
       "    </tr>\n",
       "    <tr>\n",
       "      <th>5</th>\n",
       "      <td>36</td>\n",
       "      <td>79</td>\n",
       "      <td>[there have been mani version the jpl ephemerid from the through the present, howev the data use the planetari ephemerid are not the direct raw track data but measur deduc after the analysi raw data made the space agenc and the access such process measur remain cult term availability, one two and three way doppler observ the mgs spacecraft]</td>\n",
       "      <td>3</td>\n",
       "    </tr>\n",
       "    <tr>\n",
       "      <th>6</th>\n",
       "      <td>76</td>\n",
       "      <td>77</td>\n",
       "      <td>[the durat microlens event given the einstein ring cross time which typic month two for stellar lens and few day less for free float planet, the planet graviti further deflect the light ray this imag result addit bright imag and deviat the microlens light curv from normal singl len light curv shown fig, figur the differ between ground and space base data for microlens bulg main sequenc star illustr with imag microlens event macho blg the two top panel are min, the bottom left imag repres minut exposur with gest angular resolut and pixel size and the imag the right slight degrad hst imag which repres the diffract limit imag that can reconstruct from the gest dither pattern, for galact microlens the imag separ mas the observ see microlens event transient brighten the sourc star the len star proper motion carri across the line sight, ilen the differ between len and sourc magnitude, the physic basi gravit microlens the gravit attract light ray massiv bodi such star planet, for stellar mass lens and microlens event toward the galact bulg typic this the region maximum sensit for the microlens planet search techniqu the most import featur planetari microlens that these planetari deviat are larg with typic variat even for planet less than earth mass these signal are the strongest ani propos earth mass planet search techniqu was recogn the hst and beyond committe who state that microlens promis new way determin the statist occurr planet includ small planet like earth, the gest exoplanet search program the gest baselin mission run years, the exoplanet search program requir that cid million main sequenc star the galact bulg observ continu gest must alway abl view the galact bulge, the fundament sensit limit occur when the planet mass becom too small magnifi more than small fraction star time for giant sourc star this limit slight abov earth mass but for main sequenc sourc star this limit occur about the mass mar low mass planet search program must monitor main sequenc sourc stars, this direct gest can view cid main sequenc star brighter than squar degre field view and the microlens probabl rang from the len star resid the galact disk bulg shown fig, this impli veri high data rate requir near circular geosynchron orbit which high inclin with respect the eclipt plane maintain continu view both the galact bulg and dedic ground station, the galact exoplanet survey telescop gest bennetta ballyb bondc chengd cook demingd garnavicha griestf jewittg kaiserg lauerh luninei luppinog matherd minnitij pealek rhiea rhodesd schneiderl sonnebornd stevensona stubbsm tenerellin woolfi and yockc univers notr dame notr dame usa univers colorado bolder usa univers auckland auckland new zealand nasa goddard space flight center greenbelt usa lawrenc livermor nation laboratori livermor usa univers california san diego usa univers hawaii manoa usa nation optic astronomi observatori tucson usa univers arizona tucson usa universidad catolica chile santiago chile univers california santa barbara usa observatoir pari meudon franc univers washington seattl usa lockhe martin space system compani sunnyval usa abstract the galact exoplanet survey telescop gest will observ squar degre field the galact bulg search for extra solar planet use gravit lens technique, the macho ero and ogl group discov the first gravit microlens event and now more than one thousand microlens event have been observ the microlens signal planet are distinct and diagnostic, show multipl planet detect while figs, the lens magnif determin the align the len and sourc star measur unit even low mass lens can give rise high magnif microlens events, import consequ the free float planet survey that should earth like planet prove rare this survey might provid explanation, ground base microlens survey cannot gest mission gravit microlens has develop ground base observ techniqu over the past decade, the remain observ time devot search for kuiper belt object and particip scientist program, band exposur with the ctio telescop while the bottom imag have been construct from hst frames, bulg main sequenc star are monitor for magnif due gravit lens foreground star and planet the galact disk and bulge, team has obtain the strongest limit date giant planet jupit like orbit much more ambiti microlens planet search and follow program was propos tytler who advoc southern hemispher network new class telescop follow microlens event around the clock attempt detect earth mass planets, the sourc star galact bulg dwarf indic the arrows, the radial veloc techniqu has reveal gas giant planet orbit about nearbi star with mass function that rise down their sensit limit, len star pass veri close the line sight more distant sourc star the gravit field the foreground len star will deflect the light ray from the sourc star, thought that giant planet like jupit will routin eject larg number planet the terrestri mass rang dure the earli phase planetari accretion, this the radius the ring imag that seen the len and sourc star are perfect aligned, extra solar planet orbit len star becom detect when the angular posit the planet come veri close the angular posit one the imag due the stellar lens, such planet are expect veri common becaus the late stage planetari system format general involv planetari scatter event which close approach between two planet result one the planet usual the less massiv one be eject from the planetari system, the simul confirm gest enorm sensit compar other missions, microlens most sensit planet separ from the len star, planet well below earth mass can detected, becaus the abund free float planet unknown assum that there one free float planet per galact star and then determin the number free float planet discoveri expect from the gest survey, this can use estim the planetari orbit semi major axi mean the expect correl shown the right panel fig, figur and show more typic light curv with are led uniqu choic for the star field for our planet search program one that maxim both the surfac densiti sourc star and the microlens probability, the gest baselin mission includ four month season continu observ dens star field near the galact center search for planet via gravit microlensing, these can detect down mar mass veri short timescal microlens events, our detect threshold set signal nois gest figur the sensit the lead planet search techniqu are plot function planetari mass fraction gest will survey least system for planetari system with paramet abov the curv label microlens the shade region indic the paramet space that can search for planet via the radial veloc method the plan keck astrometri program and the plan sim and kepler missions]</td>\n",
       "      <td>39</td>\n",
       "    </tr>\n",
       "  </tbody>\n",
       "</table>\n",
       "</div>"
      ],
      "text/plain": [
       "   doc_num  match_doc  \\\n",
       "0  0        100         \n",
       "1  3        36          \n",
       "2  12       58          \n",
       "3  12       66          \n",
       "4  13       102         \n",
       "5  36       79          \n",
       "6  76       77          \n",
       "\n",
       "                                                                                                                                                                                                                                                                                                                                                                                                                                                                                                                                                                                                                                                                                                                                                                                                                                                                                                                                                                                                                                                                                                                                                                                                                                                                                                                                                                                                                                                                                                                                                                                                                                                                                                                                                                                                                                                                                                                                                                                                                                                                                                                                                                                                                                                                                                                                                                                                                                                                                                                                                                                                                                                                                                                                                                                                                                                                                                                                                                                                                                                                                                                                                                                                                                                                                                                                                                                                                                                                                                                                                                                                                                                                                                                                                                                                                                                                                                                                                                                                                                                                                                                                                                                                                                                                                                                                                                                                                                                                                                                                                                                                                                                                                                                                                                                                                                                                                                                                                                                                                                                                                                                                                                                                                                                                                                                                                                                                                                                                                                                                                                                                                                                                                                                                                                                                                                                                                                                                                                                                                                                                                                                                                                                                                                                                                                                                                                                                                                                                                                                                                                                                                                                                                                                                                                                                                                                                                                                                     CopiedSentence  \\\n",
       "0  [cmb task forc hereaft cmbtf also most detector use the present generat instrument and project for the next one are the microk.sqrt sensit ref the other hand foreground emiss arguabl the last frontier cmb studi sinc the detail synchrotron free free and dust emiss well their spectral and spatial distribut are still poor understood]                                                                                                                                                                                                                                                                                                                                                                                                                                                                                                                                                                                                                                                                                                                                                                                                                                                                                                                                                                                                                                                                                                                                                                                                                                                                                                                                                                                                                                                                                                                                                                                                                                                                                                                                                                                                                                                                                                                                                                                                                                                                                                                                                                                                                                                                                                                                                                                                                                                                                                                                                                                                                                                                                                                                                                                                                                                                                                                                                                                                                                                                                                                                                                                                                                                                                                                                                                                                                                                                                                                                                                                                                                                                                                                                                                                                                                                                                                                                                                                                                                                                                                                                                                                                                                                                                                                                                                                                                                                                                                                                                                                                                                                                                                                                                                                                                                                                                                                                                                                                                                                                                                                                                                                                                                                                                                                                                                                                                                                                                                                                                                                                                                                                                                                                                                                                                                                                                                                                                                                                                                                                                                                                                                                                                                                                                                                                                                                                                                                                                                                                                                                                       \n",
       "1  [first simpler approxim was introduc for the distribut insol which was express term the angl between the earth axi rotat and perpendicular plane earth orbit cid cid cid cid sin cos cos cid quadrat approxim within error led and express for the form where cid cid was shown that this approxim allow for simpler method solv for equilibrium solut budyko mode for xed icelin without take larg toll accuracy, for now consid for simplic that the deviat toward the high and low temperatur rang have symmetr ect cid cid where and are sensit paramet which tune the width and steep the graph, formul the integro erenti equat assum earth annual averag surfac temperatur given latitud can repres function time and the sine the latitud sin where cid correspond author assist professor depart mathemat state univers new york new paltz new york usa phone email radulesa newpaltz.edu figur earth averag temperatur and carbon dioxid concentr annually]                                                                                                                                                                                                                                                                                                                                                                                                                                                                                                                                                                                                                                                                                                                                                                                                                                                                                                                                                                                                                                                                                                                                                                                                                                                                                                                                                                                                                                                                                                                                                                                                                                                                                                                                                                                                                                                                                                                                                                                                                                                                                                                                                                                                                                                                                                                                                                                                                                                                                                                                                                                                                                                                                                                                                                                                                                                                                                                                                                                                                                                                                                                                                                                                                                                                                                                                                                                                                                                                                                                                                                                                                                                                                                                                                                                                                                                                                                                                                                                                                                                                                                                                                                                                                                                                                                                                                                                                                                                                                                                                                                                                                                                                                                                                                                                                                                                                                                                                                                                                                                                                                                                                                                                                                                                                                                                                                                                                                                                                                                                                                                                                                                                                                                                                                                                                                                                                                                                                                                              \n",
       "2  [this regim absorpt energi per unit area result loss atmospher unit pressur given realist model the evolut the ray and output dwarf star riba al]                                                                                                                                                                                                                                                                                                                                                                                                                                                                                                                                                                                                                                                                                                                                                                                                                                                                                                                                                                                                                                                                                                                                                                                                                                                                                                                                                                                                                                                                                                                                                                                                                                                                                                                                                                                                                                                                                                                                                                                                                                                                                                                                                                                                                                                                                                                                                                                                                                                                                                                                                                                                                                                                                                                                                                                                                                                                                                                                                                                                                                                                                                                                                                                                                                                                                                                                                                                                                                                                                                                                                                                                                                                                                                                                                                                                                                                                                                                                                                                                                                                                                                                                                                                                                                                                                                                                                                                                                                                                                                                                                                                                                                                                                                                                                                                                                                                                                                                                                                                                                                                                                                                                                                                                                                                                                                                                                                                                                                                                                                                                                                                                                                                                                                                                                                                                                                                                                                                                                                                                                                                                                                                                                                                                                                                                                                                                                                                                                                                                                                                                                                                                                                                                                                                                                                                                  \n",
       "3  [break the curv mark transit between the regim where one instrument favor over the other, howev the sub earth realm remain larg unexplor around other star due the limit present detect methods, orbit period for sub earth orbit dwarf star pc, two case are consid venus like planet with albedo and cient heat redistribut black curv and mercuri like planet with albedo and heat redistribut grey curv for each case calcul tection threshold term the minimum angular radius the planet i.e]                                                                                                                                                                                                                                                                                                                                                                                                                                                                                                                                                                                                                                                                                                                                                                                                                                                                                                                                                                                                                                                                                                                                                                                                                                                                                                                                                                                                                                                                                                                                                                                                                                                                                                                                                                                                                                                                                                                                                                                                                                                                                                                                                                                                                                                                                                                                                                                                                                                                                                                                                                                                                                                                                                                                                                                                                                                                                                                                                                                                                                                                                                                                                                                                                                                                                                                                                                                                                                                                                                                                                                                                                                                                                                                                                                                                                                                                                                                                                                                                                                                                                                                                                                                                                                                                                                                                                                                                                                                                                                                                                                                                                                                                                                                                                                                                                                                                                                                                                                                                                                                                                                                                                                                                                                                                                                                                                                                                                                                                                                                                                                                                                                                                                                                                                                                                                                                                                                                                                                                                                                                                                                                                                                                                                                                                                                                                                                                                                                                 \n",
       "4  [previous work this problem has sought identifi mechan such gravit reson between the newli form moon and the sun the remnant proto lunar disk that can excit the lunar inclin level consist with it current value]                                                                                                                                                                                                                                                                                                                                                                                                                                                                                                                                                                                                                                                                                                                                                                                                                                                                                                                                                                                                                                                                                                                                                                                                                                                                                                                                                                                                                                                                                                                                                                                                                                                                                                                                                                                                                                                                                                                                                                                                                                                                                                                                                                                                                                                                                                                                                                                                                                                                                                                                                                                                                                                                                                                                                                                                                                                                                                                                                                                                                                                                                                                                                                                                                                                                                                                                                                                                                                                                                                                                                                                                                                                                                                                                                                                                                                                                                                                                                                                                                                                                                                                                                                                                                                                                                                                                                                                                                                                                                                                                                                                                                                                                                                                                                                                                                                                                                                                                                                                                                                                                                                                                                                                                                                                                                                                                                                                                                                                                                                                                                                                                                                                                                                                                                                                                                                                                                                                                                                                                                                                                                                                                                                                                                                                                                                                                                                                                                                                                                                                                                                                                                                                                                                                                 \n",
       "5  [there have been mani version the jpl ephemerid from the through the present, howev the data use the planetari ephemerid are not the direct raw track data but measur deduc after the analysi raw data made the space agenc and the access such process measur remain cult term availability, one two and three way doppler observ the mgs spacecraft]                                                                                                                                                                                                                                                                                                                                                                                                                                                                                                                                                                                                                                                                                                                                                                                                                                                                                                                                                                                                                                                                                                                                                                                                                                                                                                                                                                                                                                                                                                                                                                                                                                                                                                                                                                                                                                                                                                                                                                                                                                                                                                                                                                                                                                                                                                                                                                                                                                                                                                                                                                                                                                                                                                                                                                                                                                                                                                                                                                                                                                                                                                                                                                                                                                                                                                                                                                                                                                                                                                                                                                                                                                                                                                                                                                                                                                                                                                                                                                                                                                                                                                                                                                                                                                                                                                                                                                                                                                                                                                                                                                                                                                                                                                                                                                                                                                                                                                                                                                                                                                                                                                                                                                                                                                                                                                                                                                                                                                                                                                                                                                                                                                                                                                                                                                                                                                                                                                                                                                                                                                                                                                                                                                                                                                                                                                                                                                                                                                                                                                                                                                                             \n",
       "6  [the durat microlens event given the einstein ring cross time which typic month two for stellar lens and few day less for free float planet, the planet graviti further deflect the light ray this imag result addit bright imag and deviat the microlens light curv from normal singl len light curv shown fig, figur the differ between ground and space base data for microlens bulg main sequenc star illustr with imag microlens event macho blg the two top panel are min, the bottom left imag repres minut exposur with gest angular resolut and pixel size and the imag the right slight degrad hst imag which repres the diffract limit imag that can reconstruct from the gest dither pattern, for galact microlens the imag separ mas the observ see microlens event transient brighten the sourc star the len star proper motion carri across the line sight, ilen the differ between len and sourc magnitude, the physic basi gravit microlens the gravit attract light ray massiv bodi such star planet, for stellar mass lens and microlens event toward the galact bulg typic this the region maximum sensit for the microlens planet search techniqu the most import featur planetari microlens that these planetari deviat are larg with typic variat even for planet less than earth mass these signal are the strongest ani propos earth mass planet search techniqu was recogn the hst and beyond committe who state that microlens promis new way determin the statist occurr planet includ small planet like earth, the gest exoplanet search program the gest baselin mission run years, the exoplanet search program requir that cid million main sequenc star the galact bulg observ continu gest must alway abl view the galact bulge, the fundament sensit limit occur when the planet mass becom too small magnifi more than small fraction star time for giant sourc star this limit slight abov earth mass but for main sequenc sourc star this limit occur about the mass mar low mass planet search program must monitor main sequenc sourc stars, this direct gest can view cid main sequenc star brighter than squar degre field view and the microlens probabl rang from the len star resid the galact disk bulg shown fig, this impli veri high data rate requir near circular geosynchron orbit which high inclin with respect the eclipt plane maintain continu view both the galact bulg and dedic ground station, the galact exoplanet survey telescop gest bennetta ballyb bondc chengd cook demingd garnavicha griestf jewittg kaiserg lauerh luninei luppinog matherd minnitij pealek rhiea rhodesd schneiderl sonnebornd stevensona stubbsm tenerellin woolfi and yockc univers notr dame notr dame usa univers colorado bolder usa univers auckland auckland new zealand nasa goddard space flight center greenbelt usa lawrenc livermor nation laboratori livermor usa univers california san diego usa univers hawaii manoa usa nation optic astronomi observatori tucson usa univers arizona tucson usa universidad catolica chile santiago chile univers california santa barbara usa observatoir pari meudon franc univers washington seattl usa lockhe martin space system compani sunnyval usa abstract the galact exoplanet survey telescop gest will observ squar degre field the galact bulg search for extra solar planet use gravit lens technique, the macho ero and ogl group discov the first gravit microlens event and now more than one thousand microlens event have been observ the microlens signal planet are distinct and diagnostic, show multipl planet detect while figs, the lens magnif determin the align the len and sourc star measur unit even low mass lens can give rise high magnif microlens events, import consequ the free float planet survey that should earth like planet prove rare this survey might provid explanation, ground base microlens survey cannot gest mission gravit microlens has develop ground base observ techniqu over the past decade, the remain observ time devot search for kuiper belt object and particip scientist program, band exposur with the ctio telescop while the bottom imag have been construct from hst frames, bulg main sequenc star are monitor for magnif due gravit lens foreground star and planet the galact disk and bulge, team has obtain the strongest limit date giant planet jupit like orbit much more ambiti microlens planet search and follow program was propos tytler who advoc southern hemispher network new class telescop follow microlens event around the clock attempt detect earth mass planets, the sourc star galact bulg dwarf indic the arrows, the radial veloc techniqu has reveal gas giant planet orbit about nearbi star with mass function that rise down their sensit limit, len star pass veri close the line sight more distant sourc star the gravit field the foreground len star will deflect the light ray from the sourc star, thought that giant planet like jupit will routin eject larg number planet the terrestri mass rang dure the earli phase planetari accretion, this the radius the ring imag that seen the len and sourc star are perfect aligned, extra solar planet orbit len star becom detect when the angular posit the planet come veri close the angular posit one the imag due the stellar lens, such planet are expect veri common becaus the late stage planetari system format general involv planetari scatter event which close approach between two planet result one the planet usual the less massiv one be eject from the planetari system, the simul confirm gest enorm sensit compar other missions, microlens most sensit planet separ from the len star, planet well below earth mass can detected, becaus the abund free float planet unknown assum that there one free float planet per galact star and then determin the number free float planet discoveri expect from the gest survey, this can use estim the planetari orbit semi major axi mean the expect correl shown the right panel fig, figur and show more typic light curv with are led uniqu choic for the star field for our planet search program one that maxim both the surfac densiti sourc star and the microlens probability, the gest baselin mission includ four month season continu observ dens star field near the galact center search for planet via gravit microlensing, these can detect down mar mass veri short timescal microlens events, our detect threshold set signal nois gest figur the sensit the lead planet search techniqu are plot function planetari mass fraction gest will survey least system for planetari system with paramet abov the curv label microlens the shade region indic the paramet space that can search for planet via the radial veloc method the plan keck astrometri program and the plan sim and kepler missions]   \n",
       "\n",
       "   NumberOfCopied  \n",
       "0  1               \n",
       "1  3               \n",
       "2  1               \n",
       "3  4               \n",
       "4  1               \n",
       "5  3               \n",
       "6  39              "
      ]
     },
     "execution_count": 45,
     "metadata": {},
     "output_type": "execute_result"
    }
   ],
   "source": [
    "output[['doc_num', 'match_doc', 'CopiedSentence', 'NumberOfCopied']]"
   ]
  },
  {
   "cell_type": "markdown",
   "metadata": {},
   "source": [
    "## Comparison with cosine similarity"
   ]
  },
  {
   "cell_type": "code",
   "execution_count": 102,
   "metadata": {
    "collapsed": true
   },
   "outputs": [],
   "source": [
    "# pulling out the docs we got in the above result and creating a tf-idf matrix\n",
    "sim = pd.DataFrame([])\n",
    "for i in range(5):\n",
    "    if i == 0:\n",
    "        sim = sim.append(\n",
    "            pd.DataFrame({\n",
    "                'doc_num': i,\n",
    "                'text': df.cleaned[i]\n",
    "            }, index=[0]),\n",
    "            ignore_index=True)\n",
    "    else:\n",
    "        sim = sim.append(\n",
    "            pd.DataFrame(\n",
    "                {\n",
    "                    'doc_num': i + 99,\n",
    "                    'text': df_test.cleaned[i + 99]\n",
    "                },\n",
    "                index=[0]),\n",
    "            ignore_index=True)\n",
    "#sim.set_index('doc_num',inplace=True,drop=True)\n",
    "\n",
    "tokenizer = RegexpTokenizer(r'\\w+')\n",
    "tfidf_vectorizer = TfidfVectorizer(tokenizer=tokenizer.tokenize)\n",
    "tfidf_matrix = tfidf_vectorizer.fit_transform(sim.text)\n",
    "\n",
    "cs = cosine_similarity(tfidf_matrix)"
   ]
  },
  {
   "cell_type": "markdown",
   "metadata": {},
   "source": [
    "##  Cosine similarity matrix"
   ]
  },
  {
   "cell_type": "code",
   "execution_count": 103,
   "metadata": {},
   "outputs": [
    {
     "data": {
      "text/html": [
       "<div>\n",
       "<style>\n",
       "    .dataframe thead tr:only-child th {\n",
       "        text-align: right;\n",
       "    }\n",
       "\n",
       "    .dataframe thead th {\n",
       "        text-align: left;\n",
       "    }\n",
       "\n",
       "    .dataframe tbody tr th {\n",
       "        vertical-align: top;\n",
       "    }\n",
       "</style>\n",
       "<table border=\"1\" class=\"dataframe\">\n",
       "  <thead>\n",
       "    <tr style=\"text-align: right;\">\n",
       "      <th>doc_num</th>\n",
       "      <th>0</th>\n",
       "      <th>100</th>\n",
       "      <th>101</th>\n",
       "      <th>102</th>\n",
       "      <th>103</th>\n",
       "    </tr>\n",
       "    <tr>\n",
       "      <th>doc_num</th>\n",
       "      <th></th>\n",
       "      <th></th>\n",
       "      <th></th>\n",
       "      <th></th>\n",
       "      <th></th>\n",
       "    </tr>\n",
       "  </thead>\n",
       "  <tbody>\n",
       "    <tr>\n",
       "      <th>0</th>\n",
       "      <td>1.000000</td>\n",
       "      <td>0.448433</td>\n",
       "      <td>0.414117</td>\n",
       "      <td>0.352229</td>\n",
       "      <td>0.439734</td>\n",
       "    </tr>\n",
       "    <tr>\n",
       "      <th>100</th>\n",
       "      <td>0.448433</td>\n",
       "      <td>1.000000</td>\n",
       "      <td>0.651156</td>\n",
       "      <td>0.323382</td>\n",
       "      <td>0.630737</td>\n",
       "    </tr>\n",
       "    <tr>\n",
       "      <th>101</th>\n",
       "      <td>0.414117</td>\n",
       "      <td>0.651156</td>\n",
       "      <td>1.000000</td>\n",
       "      <td>0.284402</td>\n",
       "      <td>0.613193</td>\n",
       "    </tr>\n",
       "    <tr>\n",
       "      <th>102</th>\n",
       "      <td>0.352229</td>\n",
       "      <td>0.323382</td>\n",
       "      <td>0.284402</td>\n",
       "      <td>1.000000</td>\n",
       "      <td>0.314419</td>\n",
       "    </tr>\n",
       "    <tr>\n",
       "      <th>103</th>\n",
       "      <td>0.439734</td>\n",
       "      <td>0.630737</td>\n",
       "      <td>0.613193</td>\n",
       "      <td>0.314419</td>\n",
       "      <td>1.000000</td>\n",
       "    </tr>\n",
       "  </tbody>\n",
       "</table>\n",
       "</div>"
      ],
      "text/plain": [
       "doc_num         0       100       101       102       103\n",
       "doc_num                                                  \n",
       "0        1.000000  0.448433  0.414117  0.352229  0.439734\n",
       "100      0.448433  1.000000  0.651156  0.323382  0.630737\n",
       "101      0.414117  0.651156  1.000000  0.284402  0.613193\n",
       "102      0.352229  0.323382  0.284402  1.000000  0.314419\n",
       "103      0.439734  0.630737  0.613193  0.314419  1.000000"
      ]
     },
     "execution_count": 103,
     "metadata": {},
     "output_type": "execute_result"
    }
   ],
   "source": [
    "cm = pd.DataFrame(cs, index=sim.doc_num, columns=sim.doc_num)\n",
    "cm"
   ]
  }
 ],
 "metadata": {
  "kernelspec": {
   "display_name": "Python 3",
   "language": "python",
   "name": "python3"
  },
  "language_info": {
   "codemirror_mode": {
    "name": "ipython",
    "version": 3
   },
   "file_extension": ".py",
   "mimetype": "text/x-python",
   "name": "python",
   "nbconvert_exporter": "python",
   "pygments_lexer": "ipython3",
   "version": "3.6.2"
  }
 },
 "nbformat": 4,
 "nbformat_minor": 2
}
